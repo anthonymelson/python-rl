{
  "nbformat": 4,
  "nbformat_minor": 0,
  "metadata": {
    "colab": {
      "name": "Using the N Bernoulli Bandit Class.ipynb",
      "provenance": [],
      "authorship_tag": "ABX9TyMafrBU1O7cq+iNYtpRCgk9",
      "include_colab_link": true
    },
    "kernelspec": {
      "name": "python3",
      "display_name": "Python 3"
    }
  },
  "cells": [
    {
      "cell_type": "markdown",
      "metadata": {
        "id": "view-in-github",
        "colab_type": "text"
      },
      "source": [
        "<a href=\"https://colab.research.google.com/github/anthonymelson/python-rl/blob/master/Using_the_N_Bernoulli_Bandit_Class.ipynb\" target=\"_parent\"><img src=\"https://colab.research.google.com/assets/colab-badge.svg\" alt=\"Open In Colab\"/></a>"
      ]
    },
    {
      "cell_type": "markdown",
      "metadata": {
        "id": "wnseDE-9ohHh",
        "colab_type": "text"
      },
      "source": [
        "# **Bernoulli Bandits Class**"
      ]
    },
    {
      "cell_type": "markdown",
      "metadata": {
        "id": "Iecj4h_QomeJ",
        "colab_type": "text"
      },
      "source": [
        "The [Bernoulli Bandits](https://en.wikipedia.org/wiki/Multi-armed_bandit#Variations) Class defined below allows users to experiment with applying [Thompson Sampling](https://en.wikipedia.org/wiki/Thompson_sampling) to the classical multi-armed bandits problem of reinforcement learning (explore vs exploit).\n",
        "\n",
        "It allows the user to select the number of bandits the agent can choose from and a range for the probabilities of winning for each machine to be selected from randomly.\n",
        "\n",
        "This helps build an intuition about the limits of Thompson Sampling, thus helping practitoners to apply the technique more effectively.  For instance, in website optimization it is beneficial to know how many variations that are how close in likelihood to convert can be tested effectively at once, and how well Thompson Sampling will do at finding the best choice and/or limiting regret.\n",
        "\n",
        "It is the authors belief that web optimization is a truly online problem and that Thompson Sampling is superior to A/B testing for this purpose (though less used).  Also, that reinforcement learning, broadly, will surpass traditional methods and that Thompson Sampling is a perfect place to start for beginners."
      ]
    },
    {
      "cell_type": "markdown",
      "metadata": {
        "id": "hAMq9-SmrFC8",
        "colab_type": "text"
      },
      "source": [
        "## **Python Implementation**"
      ]
    },
    {
      "cell_type": "code",
      "metadata": {
        "id": "57RuquhtnHgA",
        "colab_type": "code",
        "colab": {}
      },
      "source": [
        "import numpy as np\n",
        "import random\n",
        "import pandas as pd\n",
        "import matplotlib.pyplot as plt\n",
        "\n",
        "class N_Bernoulli_Bandit:\n",
        "    def __init__(self, total_reward = 0, rounds = 0, num_machines = 3, machine_played = [], wins = [], losses = [], machine_probs = []):\n",
        "\n",
        "        self.total_reward = total_reward\n",
        "        self.machine_played = machine_played\n",
        "        self.wins = wins\n",
        "        self.losses = losses\n",
        "        self.machine_probs = machine_probs\n",
        "        self.rounds = rounds\n",
        "        self.num_machines = num_machines\n",
        "\n",
        "    def simulate(self, num_machines = 3, rounds = 1000, prob_range = [0,1]):\n",
        "        self.num_machines = num_machines\n",
        "        machine_probs = np.random.uniform(low=prob_range[0], high=prob_range[1], size=num_machines).round(2) # Win Probability of Machines\n",
        "        wins = np.zeros(num_machines) #Tracks Wins for Each Machine\n",
        "        losses = np.zeros(num_machines) # Tracks Losses for Each Machine\n",
        "        total_reward = 0 # Tracks Overall Wins for All Rounds\n",
        "        machine_played = [] # Tracks Total Plays for Each Machine\n",
        "\n",
        "        # Iterate Through Rounds\n",
        "        for i in range(0, rounds):\n",
        "            probs = np.zeros(num_machines) # Store Each Machine's Draw to be Played\n",
        "            \n",
        "            # Iterate Through Machines\n",
        "            for machine in range(0, num_machines):\n",
        "                probs[machine] = random.betavariate(wins[machine] + 1, losses[machine] + 1) # Draw Based on Previous Results and Randomness\n",
        "\n",
        "            selected_machine = np.argmax(probs) # Machine With Best Draw\n",
        "            machine_played.append(selected_machine) # Collect Machine With Best Draw\n",
        "\n",
        "            # Simulate Playing the Selected Machine, and Collect Reward\n",
        "            reward = np.random.choice([0,1],1, p = [1 - machine_probs[selected_machine], machine_probs[selected_machine]])\n",
        "\n",
        "            # Count Wins, Losses, and Reward\n",
        "            if reward == 1:\n",
        "                wins[selected_machine] = wins[selected_machine] + 1\n",
        "            else:\n",
        "                losses[selected_machine] = losses[selected_machine] + 1\n",
        "            total_reward = total_reward + reward\n",
        "\n",
        "        self.total_reward = total_reward\n",
        "        self.machine_played = machine_played\n",
        "        self.wins = wins\n",
        "        self.losses = losses\n",
        "        self.machine_probs = machine_probs\n",
        "        self.rounds = rounds\n",
        "\n",
        "        return\n",
        "\n",
        "    def summary(self):\n",
        "        # Create and Print DataFrame with Regret, Wins, Losses, and Probabilities of Machine\n",
        "        regret = (max(self.machine_probs) * self.rounds) - self.total_reward\n",
        "        df = pd.DataFrame(self.wins, columns=['Wins'])\n",
        "        df['Losses'] = self.losses\n",
        "        df['Actual Prob'] = self.machine_probs\n",
        "        display(df)\n",
        "        print()\n",
        "        print(f\"Machine {np.argmax(self.wins)} won most, with {int(self.wins[np.argmax(self.wins)])} wins\")\n",
        "        print(f\"Machine {np.argmax(self.machine_probs)} had the highest payout\")\n",
        "        print(f\"Total Reward: {self.total_reward[0]}\")\n",
        "        print(f\"Total Regret: {regret[0]}\")\n",
        "\n",
        "    def hist_plot(self):\n",
        "        # Plot Histogram of Total Plays For Each Machine\n",
        "        plt.hist(self.machine_played, bins=self.num_machines)\n",
        "        plt.title('Histogram of Machine Plays')\n",
        "        plt.xlabel('Machines')\n",
        "        plt.ylabel('Number of Times Selected')\n",
        "        plt.show()"
      ],
      "execution_count": 1,
      "outputs": []
    },
    {
      "cell_type": "markdown",
      "metadata": {
        "id": "NMBSIqHZrRET",
        "colab_type": "text"
      },
      "source": [
        "First, we can try:\n",
        "\n",
        "\n",
        "\n",
        "*   15 bandits\n",
        "*   probabilities between 0.5 and 0.7\n",
        "*   5,000 iterations\n",
        "\n",
        "These numbers may not seem significant, until they are compared to A/B testing.  In that context, it is clear that almost nobody would ever test 15 variations that were expected to be almost equally likely to one another in one test, even if the sample size was 5,000.  Furthermore, each would have to be tried *too* many times for the experimenter to think the site would perform very well in the meantime.\n",
        "\n",
        "Let's see how Thompson Sampling fairs!\n"
      ]
    },
    {
      "cell_type": "code",
      "metadata": {
        "id": "guUGWLZ1nNER",
        "colab_type": "code",
        "colab": {
          "base_uri": "https://localhost:8080/",
          "height": 873
        },
        "outputId": "727430fb-c693-4d04-86f2-153b5614709d"
      },
      "source": [
        "bb = N_Bernoulli_Bandit()\n",
        "bb.simulate(num_machines=15, rounds=5000, prob_range=[0.5, 0.7])\n",
        "bb.summary()\n",
        "bb.hist_plot()"
      ],
      "execution_count": 11,
      "outputs": [
        {
          "output_type": "display_data",
          "data": {
            "text/html": [
              "<div>\n",
              "<style scoped>\n",
              "    .dataframe tbody tr th:only-of-type {\n",
              "        vertical-align: middle;\n",
              "    }\n",
              "\n",
              "    .dataframe tbody tr th {\n",
              "        vertical-align: top;\n",
              "    }\n",
              "\n",
              "    .dataframe thead th {\n",
              "        text-align: right;\n",
              "    }\n",
              "</style>\n",
              "<table border=\"1\" class=\"dataframe\">\n",
              "  <thead>\n",
              "    <tr style=\"text-align: right;\">\n",
              "      <th></th>\n",
              "      <th>Wins</th>\n",
              "      <th>Losses</th>\n",
              "      <th>Actual Prob</th>\n",
              "    </tr>\n",
              "  </thead>\n",
              "  <tbody>\n",
              "    <tr>\n",
              "      <th>0</th>\n",
              "      <td>55.0</td>\n",
              "      <td>41.0</td>\n",
              "      <td>0.61</td>\n",
              "    </tr>\n",
              "    <tr>\n",
              "      <th>1</th>\n",
              "      <td>53.0</td>\n",
              "      <td>44.0</td>\n",
              "      <td>0.57</td>\n",
              "    </tr>\n",
              "    <tr>\n",
              "      <th>2</th>\n",
              "      <td>36.0</td>\n",
              "      <td>31.0</td>\n",
              "      <td>0.53</td>\n",
              "    </tr>\n",
              "    <tr>\n",
              "      <th>3</th>\n",
              "      <td>23.0</td>\n",
              "      <td>23.0</td>\n",
              "      <td>0.57</td>\n",
              "    </tr>\n",
              "    <tr>\n",
              "      <th>4</th>\n",
              "      <td>17.0</td>\n",
              "      <td>21.0</td>\n",
              "      <td>0.54</td>\n",
              "    </tr>\n",
              "    <tr>\n",
              "      <th>5</th>\n",
              "      <td>1840.0</td>\n",
              "      <td>841.0</td>\n",
              "      <td>0.67</td>\n",
              "    </tr>\n",
              "    <tr>\n",
              "      <th>6</th>\n",
              "      <td>61.0</td>\n",
              "      <td>43.0</td>\n",
              "      <td>0.51</td>\n",
              "    </tr>\n",
              "    <tr>\n",
              "      <th>7</th>\n",
              "      <td>28.0</td>\n",
              "      <td>27.0</td>\n",
              "      <td>0.56</td>\n",
              "    </tr>\n",
              "    <tr>\n",
              "      <th>8</th>\n",
              "      <td>12.0</td>\n",
              "      <td>16.0</td>\n",
              "      <td>0.55</td>\n",
              "    </tr>\n",
              "    <tr>\n",
              "      <th>9</th>\n",
              "      <td>108.0</td>\n",
              "      <td>72.0</td>\n",
              "      <td>0.55</td>\n",
              "    </tr>\n",
              "    <tr>\n",
              "      <th>10</th>\n",
              "      <td>22.0</td>\n",
              "      <td>24.0</td>\n",
              "      <td>0.50</td>\n",
              "    </tr>\n",
              "    <tr>\n",
              "      <th>11</th>\n",
              "      <td>129.0</td>\n",
              "      <td>80.0</td>\n",
              "      <td>0.62</td>\n",
              "    </tr>\n",
              "    <tr>\n",
              "      <th>12</th>\n",
              "      <td>90.0</td>\n",
              "      <td>52.0</td>\n",
              "      <td>0.62</td>\n",
              "    </tr>\n",
              "    <tr>\n",
              "      <th>13</th>\n",
              "      <td>555.0</td>\n",
              "      <td>283.0</td>\n",
              "      <td>0.65</td>\n",
              "    </tr>\n",
              "    <tr>\n",
              "      <th>14</th>\n",
              "      <td>238.0</td>\n",
              "      <td>135.0</td>\n",
              "      <td>0.61</td>\n",
              "    </tr>\n",
              "  </tbody>\n",
              "</table>\n",
              "</div>"
            ],
            "text/plain": [
              "      Wins  Losses  Actual Prob\n",
              "0     55.0    41.0         0.61\n",
              "1     53.0    44.0         0.57\n",
              "2     36.0    31.0         0.53\n",
              "3     23.0    23.0         0.57\n",
              "4     17.0    21.0         0.54\n",
              "5   1840.0   841.0         0.67\n",
              "6     61.0    43.0         0.51\n",
              "7     28.0    27.0         0.56\n",
              "8     12.0    16.0         0.55\n",
              "9    108.0    72.0         0.55\n",
              "10    22.0    24.0         0.50\n",
              "11   129.0    80.0         0.62\n",
              "12    90.0    52.0         0.62\n",
              "13   555.0   283.0         0.65\n",
              "14   238.0   135.0         0.61"
            ]
          },
          "metadata": {
            "tags": []
          }
        },
        {
          "output_type": "stream",
          "text": [
            "\n",
            "Machine 5 won most, with 1840 wins\n",
            "Machine 5 had the highest payout\n",
            "Total Reward: 3267\n",
            "Total Regret: 83.0\n"
          ],
          "name": "stdout"
        },
        {
          "output_type": "display_data",
          "data": {
            "image/png": "[encoded data removed]",
            "text/plain": [
              "<Figure size 432x288 with 1 Axes>"
            ]
          },
          "metadata": {
            "tags": [],
            "needs_background": "light"
          }
        }
      ]
    },
    {
      "cell_type": "markdown",
      "metadata": {
        "id": "JG-BNMXMs71a",
        "colab_type": "text"
      },
      "source": [
        "Thompson Sampling was able to find the best bandit was 5, despite the fact that 13 was only 2% less likely to pay out and the fact that half of the other options had payour probabilities within 10% of it.\n",
        "\n",
        "Furthermore, of those that were not 5, the two levers that were clearly favored were the second and third best choices, which minimized the algorithms losses in the process of learning about lever 5's dominance!"
      ]
    },
    {
      "cell_type": "markdown",
      "metadata": {
        "id": "KBE7HuzBvu9F",
        "colab_type": "text"
      },
      "source": [
        "Now, we can try:\n",
        "\n",
        "*   10 bandits\n",
        "*   probabilities between 0.2 and 0.8\n",
        "*   100 iterations"
      ]
    },
    {
      "cell_type": "code",
      "metadata": {
        "id": "MzsiGytznZoq",
        "colab_type": "code",
        "colab": {
          "base_uri": "https://localhost:8080/",
          "height": 720
        },
        "outputId": "ed91122f-6636-4726-acc0-b73ea9ac30fc"
      },
      "source": [
        "bb = N_Bernoulli_Bandit()\n",
        "bb.simulate(num_machines=10, rounds=150, prob_range=[0.2, 0.8])\n",
        "bb.summary()\n",
        "bb.hist_plot()"
      ],
      "execution_count": 18,
      "outputs": [
        {
          "output_type": "display_data",
          "data": {
            "text/html": [
              "<div>\n",
              "<style scoped>\n",
              "    .dataframe tbody tr th:only-of-type {\n",
              "        vertical-align: middle;\n",
              "    }\n",
              "\n",
              "    .dataframe tbody tr th {\n",
              "        vertical-align: top;\n",
              "    }\n",
              "\n",
              "    .dataframe thead th {\n",
              "        text-align: right;\n",
              "    }\n",
              "</style>\n",
              "<table border=\"1\" class=\"dataframe\">\n",
              "  <thead>\n",
              "    <tr style=\"text-align: right;\">\n",
              "      <th></th>\n",
              "      <th>Wins</th>\n",
              "      <th>Losses</th>\n",
              "      <th>Actual Prob</th>\n",
              "    </tr>\n",
              "  </thead>\n",
              "  <tbody>\n",
              "    <tr>\n",
              "      <th>0</th>\n",
              "      <td>2.0</td>\n",
              "      <td>2.0</td>\n",
              "      <td>0.56</td>\n",
              "    </tr>\n",
              "    <tr>\n",
              "      <th>1</th>\n",
              "      <td>63.0</td>\n",
              "      <td>13.0</td>\n",
              "      <td>0.77</td>\n",
              "    </tr>\n",
              "    <tr>\n",
              "      <th>2</th>\n",
              "      <td>6.0</td>\n",
              "      <td>4.0</td>\n",
              "      <td>0.60</td>\n",
              "    </tr>\n",
              "    <tr>\n",
              "      <th>3</th>\n",
              "      <td>0.0</td>\n",
              "      <td>2.0</td>\n",
              "      <td>0.48</td>\n",
              "    </tr>\n",
              "    <tr>\n",
              "      <th>4</th>\n",
              "      <td>0.0</td>\n",
              "      <td>2.0</td>\n",
              "      <td>0.35</td>\n",
              "    </tr>\n",
              "    <tr>\n",
              "      <th>5</th>\n",
              "      <td>13.0</td>\n",
              "      <td>8.0</td>\n",
              "      <td>0.52</td>\n",
              "    </tr>\n",
              "    <tr>\n",
              "      <th>6</th>\n",
              "      <td>7.0</td>\n",
              "      <td>5.0</td>\n",
              "      <td>0.59</td>\n",
              "    </tr>\n",
              "    <tr>\n",
              "      <th>7</th>\n",
              "      <td>0.0</td>\n",
              "      <td>2.0</td>\n",
              "      <td>0.38</td>\n",
              "    </tr>\n",
              "    <tr>\n",
              "      <th>8</th>\n",
              "      <td>0.0</td>\n",
              "      <td>3.0</td>\n",
              "      <td>0.43</td>\n",
              "    </tr>\n",
              "    <tr>\n",
              "      <th>9</th>\n",
              "      <td>11.0</td>\n",
              "      <td>7.0</td>\n",
              "      <td>0.49</td>\n",
              "    </tr>\n",
              "  </tbody>\n",
              "</table>\n",
              "</div>"
            ],
            "text/plain": [
              "   Wins  Losses  Actual Prob\n",
              "0   2.0     2.0         0.56\n",
              "1  63.0    13.0         0.77\n",
              "2   6.0     4.0         0.60\n",
              "3   0.0     2.0         0.48\n",
              "4   0.0     2.0         0.35\n",
              "5  13.0     8.0         0.52\n",
              "6   7.0     5.0         0.59\n",
              "7   0.0     2.0         0.38\n",
              "8   0.0     3.0         0.43\n",
              "9  11.0     7.0         0.49"
            ]
          },
          "metadata": {
            "tags": []
          }
        },
        {
          "output_type": "stream",
          "text": [
            "\n",
            "Machine 1 won most, with 63 wins\n",
            "Machine 1 had the highest payout\n",
            "Total Reward: 102\n",
            "Total Regret: 13.5\n"
          ],
          "name": "stdout"
        },
        {
          "output_type": "display_data",
          "data": {
            "image/png": "[encoded data removed]",
            "text/plain": [
              "<Figure size 432x288 with 1 Axes>"
            ]
          },
          "metadata": {
            "tags": [],
            "needs_background": "light"
          }
        }
      ]
    },
    {
      "cell_type": "markdown",
      "metadata": {
        "id": "_71nbgB0xOMy",
        "colab_type": "text"
      },
      "source": [
        "Again Thompson Sampling found the top performing machine and mostly played it.  Addtionally, half of the machine probabilities were below 50% and the other half (including number 1) were above, and of the 150 pulls, only 27 were on machines below 50%.  This is not only impressive, but also saves the user a ton of money."
      ]
    },
    {
      "cell_type": "markdown",
      "metadata": {
        "id": "hETx76Izxyh3",
        "colab_type": "text"
      },
      "source": [
        "First, we can try:\n",
        "\n",
        "*   10 bandits\n",
        "*   probabilities between 0.5 and 0.7\n",
        "*   100 iterations\n",
        "\n",
        "Let's see if it can handle such a tall order?"
      ]
    },
    {
      "cell_type": "code",
      "metadata": {
        "id": "RJ9NMZ95n1zL",
        "colab_type": "code",
        "colab": {
          "base_uri": "https://localhost:8080/",
          "height": 720
        },
        "outputId": "40721dcc-9a1c-497a-822e-e082c8874c7b"
      },
      "source": [
        "bb = N_Bernoulli_Bandit()\n",
        "bb.simulate(num_machines=10, rounds=100, prob_range=[0.5, 0.7])\n",
        "bb.summary()\n",
        "bb.hist_plot()"
      ],
      "execution_count": 6,
      "outputs": [
        {
          "output_type": "display_data",
          "data": {
            "text/html": [
              "<div>\n",
              "<style scoped>\n",
              "    .dataframe tbody tr th:only-of-type {\n",
              "        vertical-align: middle;\n",
              "    }\n",
              "\n",
              "    .dataframe tbody tr th {\n",
              "        vertical-align: top;\n",
              "    }\n",
              "\n",
              "    .dataframe thead th {\n",
              "        text-align: right;\n",
              "    }\n",
              "</style>\n",
              "<table border=\"1\" class=\"dataframe\">\n",
              "  <thead>\n",
              "    <tr style=\"text-align: right;\">\n",
              "      <th></th>\n",
              "      <th>Wins</th>\n",
              "      <th>Losses</th>\n",
              "      <th>Actual Prob</th>\n",
              "    </tr>\n",
              "  </thead>\n",
              "  <tbody>\n",
              "    <tr>\n",
              "      <th>0</th>\n",
              "      <td>5.0</td>\n",
              "      <td>6.0</td>\n",
              "      <td>0.53</td>\n",
              "    </tr>\n",
              "    <tr>\n",
              "      <th>1</th>\n",
              "      <td>8.0</td>\n",
              "      <td>5.0</td>\n",
              "      <td>0.66</td>\n",
              "    </tr>\n",
              "    <tr>\n",
              "      <th>2</th>\n",
              "      <td>3.0</td>\n",
              "      <td>3.0</td>\n",
              "      <td>0.70</td>\n",
              "    </tr>\n",
              "    <tr>\n",
              "      <th>3</th>\n",
              "      <td>2.0</td>\n",
              "      <td>4.0</td>\n",
              "      <td>0.63</td>\n",
              "    </tr>\n",
              "    <tr>\n",
              "      <th>4</th>\n",
              "      <td>0.0</td>\n",
              "      <td>2.0</td>\n",
              "      <td>0.68</td>\n",
              "    </tr>\n",
              "    <tr>\n",
              "      <th>5</th>\n",
              "      <td>1.0</td>\n",
              "      <td>3.0</td>\n",
              "      <td>0.51</td>\n",
              "    </tr>\n",
              "    <tr>\n",
              "      <th>6</th>\n",
              "      <td>5.0</td>\n",
              "      <td>6.0</td>\n",
              "      <td>0.54</td>\n",
              "    </tr>\n",
              "    <tr>\n",
              "      <th>7</th>\n",
              "      <td>6.0</td>\n",
              "      <td>4.0</td>\n",
              "      <td>0.51</td>\n",
              "    </tr>\n",
              "    <tr>\n",
              "      <th>8</th>\n",
              "      <td>17.0</td>\n",
              "      <td>8.0</td>\n",
              "      <td>0.66</td>\n",
              "    </tr>\n",
              "    <tr>\n",
              "      <th>9</th>\n",
              "      <td>7.0</td>\n",
              "      <td>5.0</td>\n",
              "      <td>0.70</td>\n",
              "    </tr>\n",
              "  </tbody>\n",
              "</table>\n",
              "</div>"
            ],
            "text/plain": [
              "   Wins  Losses  Actual Prob\n",
              "0   5.0     6.0         0.53\n",
              "1   8.0     5.0         0.66\n",
              "2   3.0     3.0         0.70\n",
              "3   2.0     4.0         0.63\n",
              "4   0.0     2.0         0.68\n",
              "5   1.0     3.0         0.51\n",
              "6   5.0     6.0         0.54\n",
              "7   6.0     4.0         0.51\n",
              "8  17.0     8.0         0.66\n",
              "9   7.0     5.0         0.70"
            ]
          },
          "metadata": {
            "tags": []
          }
        },
        {
          "output_type": "stream",
          "text": [
            "\n",
            "Machine 8 won most, with 17 wins\n",
            "Machine 2 had the highest payout\n",
            "Total Reward: 54\n",
            "Total Regret: 16.0\n"
          ],
          "name": "stdout"
        },
        {
          "output_type": "display_data",
          "data": {
            "image/png": "[encoded data removed]",
            "text/plain": [
              "<Figure size 432x288 with 1 Axes>"
            ]
          },
          "metadata": {
            "tags": [],
            "needs_background": "light"
          }
        }
      ]
    },
    {
      "cell_type": "markdown",
      "metadata": {
        "id": "3NmCTsCRyGag",
        "colab_type": "text"
      },
      "source": [
        "Not quite!  it primarily played 8, while 2 was the dominant machine.  Additionally, in only 100 rounds (with a best machine of 70% win percentage, thus 70 possible points), it accumulated 16 regret.\n",
        "\n",
        "The point here is not to show that Thompson Sampling isn't a great tool (it is!), or that there is another tool (i.e. A/B testing) that could do better at deciding between 10 options that are close to equal.  It is only to show that Thompson Sampling has its limits as well!\n",
        "\n",
        "More importantly, I wanted to show off the functions and set up the possiblility to analyze it's limits more rigorously sometime in the future (which has not been done in the literature)!"
      ]
    }
  ]
}